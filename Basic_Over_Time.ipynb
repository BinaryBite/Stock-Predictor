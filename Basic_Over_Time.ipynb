{
 "cells": [
  {
   "cell_type": "code",
   "execution_count": 1,
   "metadata": {},
   "outputs": [],
   "source": [
    "import yfinance as yf\n",
    "import pandas as pd\n",
    "import matplotlib\n",
    "import seaborn\n",
    "from sklearn import linear_model\n",
    "from sklearn.model_selection import train_test_split"
   ]
  },
  {
   "cell_type": "code",
   "execution_count": 2,
   "metadata": {},
   "outputs": [
    {
     "name": "stdout",
     "output_type": "stream",
     "text": [
      "YF.download() has changed argument auto_adjust default to True\n"
     ]
    },
    {
     "name": "stderr",
     "output_type": "stream",
     "text": [
      "[*********************100%***********************]  1 of 1 completed\n"
     ]
    }
   ],
   "source": [
    "data = yf.download(\"^GSPC\", start = \"2020-01-01\", end = \"2025-01-01\")"
   ]
  },
  {
   "cell_type": "code",
   "execution_count": 69,
   "metadata": {},
   "outputs": [
    {
     "name": "stdout",
     "output_type": "stream",
     "text": [
      "        Date        Close         High          Low         Open      Volume\n",
      "0 2020-01-02  3257.850098  3258.139893  3235.530029  3244.669922  3459930000\n",
      "1 2020-01-03  3234.850098  3246.149902  3222.340088  3226.360107  3484700000\n",
      "2 2020-01-06  3246.280029  3246.840088  3214.639893  3217.550049  3702460000\n",
      "3 2020-01-07  3237.179932  3244.909912  3232.429932  3241.860107  3435910000\n",
      "4 2020-01-08  3253.050049  3267.070068  3236.669922  3238.590088  3726840000\n"
     ]
    }
   ],
   "source": [
    "df = pd.DataFrame(data)\n",
    "df.columns = df.columns.droplevel(1)\n",
    "df.columns.name = None\n",
    "df.reset_index(inplace = True)\n",
    "print(df.head())\n",
    "y = df['Close'].values.reshape(-1,1)\n",
    "x = df['Date'] = pd.to_datetime(df[\"Date\"]).map(pd.Timestamp.toordinal)\n",
    "x = x.values.reshape(-1, 1)\n",
    "x_train, x_test, y_train, y_test = train_test_split(x, y)"
   ]
  },
  {
   "cell_type": "code",
   "execution_count": 70,
   "metadata": {},
   "outputs": [
    {
     "data": {
      "text/plain": [
       "0.679025683746546"
      ]
     },
     "execution_count": 70,
     "metadata": {},
     "output_type": "execute_result"
    }
   ],
   "source": [
    "reg = linear_model.LinearRegression()\n",
    "reg.fit(x_train, y_train)\n",
    "reg.score(x_test, y_test)\n"
   ]
  }
 ],
 "metadata": {
  "kernelspec": {
   "display_name": "envoid",
   "language": "python",
   "name": "python3"
  },
  "language_info": {
   "codemirror_mode": {
    "name": "ipython",
    "version": 3
   },
   "file_extension": ".py",
   "mimetype": "text/x-python",
   "name": "python",
   "nbconvert_exporter": "python",
   "pygments_lexer": "ipython3",
   "version": "3.13.2"
  }
 },
 "nbformat": 4,
 "nbformat_minor": 2
}
